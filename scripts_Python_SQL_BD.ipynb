{
 "cells": [
  {
   "cell_type": "markdown",
   "metadata": {},
   "source": [
    "#### Importa as bibliotecas"
   ]
  },
  {
   "cell_type": "code",
   "execution_count": 1,
   "metadata": {},
   "outputs": [],
   "source": [
    "import pandas as pd\n",
    "import sqlite3 as sql"
   ]
  },
  {
   "cell_type": "code",
   "execution_count": null,
   "metadata": {},
   "outputs": [],
   "source": [
    "!pip install sqlite3\n",
    "!pip install pandas"
   ]
  },
  {
   "cell_type": "markdown",
   "metadata": {},
   "source": [
    "#### Especifica o nome do arquivo de dados e cria a conexão."
   ]
  },
  {
   "cell_type": "code",
   "execution_count": 2,
   "metadata": {},
   "outputs": [],
   "source": [
    "arquivo_bd = '/Users/rodrigosantanaferreira/Downloads/olist.db'"
   ]
  },
  {
   "cell_type": "code",
   "execution_count": 3,
   "metadata": {},
   "outputs": [],
   "source": [
    "conexao = sql.connect(arquivo_bd)"
   ]
  },
  {
   "cell_type": "code",
   "execution_count": 4,
   "metadata": {},
   "outputs": [
    {
     "data": {
      "text/plain": [
       "<sqlite3.Connection at 0x11974b990>"
      ]
     },
     "execution_count": 4,
     "metadata": {},
     "output_type": "execute_result"
    }
   ],
   "source": [
    "conexao"
   ]
  },
  {
   "cell_type": "markdown",
   "metadata": {},
   "source": [
    "#### Define a query a ser usada"
   ]
  },
  {
   "cell_type": "code",
   "execution_count": 5,
   "metadata": {},
   "outputs": [],
   "source": [
    "query = '''SELECT *\n",
    "           FROM ORDERS;\n",
    "        '''"
   ]
  },
  {
   "cell_type": "code",
   "execution_count": 6,
   "metadata": {},
   "outputs": [
    {
     "name": "stdout",
     "output_type": "stream",
     "text": [
      "SELECT *\n",
      "           FROM ORDERS;\n",
      "        \n"
     ]
    }
   ],
   "source": [
    "# imprime o conteudo da variavel query\n",
    "print (query)"
   ]
  },
  {
   "cell_type": "markdown",
   "metadata": {},
   "source": [
    "#### Usa o pandas para criar um dataframe a partir da query em questão."
   ]
  },
  {
   "cell_type": "code",
   "execution_count": 7,
   "metadata": {},
   "outputs": [],
   "source": [
    "df = pd.read_sql_query(query, conexao)"
   ]
  },
  {
   "cell_type": "code",
   "execution_count": 8,
   "metadata": {},
   "outputs": [
    {
     "data": {
      "text/html": [
       "<div>\n",
       "<style scoped>\n",
       "    .dataframe tbody tr th:only-of-type {\n",
       "        vertical-align: middle;\n",
       "    }\n",
       "\n",
       "    .dataframe tbody tr th {\n",
       "        vertical-align: top;\n",
       "    }\n",
       "\n",
       "    .dataframe thead th {\n",
       "        text-align: right;\n",
       "    }\n",
       "</style>\n",
       "<table border=\"1\" class=\"dataframe\">\n",
       "  <thead>\n",
       "    <tr style=\"text-align: right;\">\n",
       "      <th></th>\n",
       "      <th>order_id</th>\n",
       "      <th>customer_id</th>\n",
       "      <th>order_status</th>\n",
       "      <th>order_purchase_timestamp</th>\n",
       "      <th>order_approved_at</th>\n",
       "      <th>order_delivered_carrier_date</th>\n",
       "      <th>order_delivered_customer_date</th>\n",
       "      <th>order_estimated_delivery_date</th>\n",
       "    </tr>\n",
       "  </thead>\n",
       "  <tbody>\n",
       "    <tr>\n",
       "      <th>0</th>\n",
       "      <td>e481f51cbdc54678b7cc49136f2d6af7</td>\n",
       "      <td>9ef432eb6251297304e76186b10a928d</td>\n",
       "      <td>delivered</td>\n",
       "      <td>2017-10-02 10:56:33</td>\n",
       "      <td>2017-10-02 11:07:15</td>\n",
       "      <td>2017-10-04 19:55:00</td>\n",
       "      <td>2017-10-10 21:25:13</td>\n",
       "      <td>2017-10-18 00:00:00</td>\n",
       "    </tr>\n",
       "    <tr>\n",
       "      <th>1</th>\n",
       "      <td>53cdb2fc8bc7dce0b6741e2150273451</td>\n",
       "      <td>b0830fb4747a6c6d20dea0b8c802d7ef</td>\n",
       "      <td>delivered</td>\n",
       "      <td>2018-07-24 20:41:37</td>\n",
       "      <td>2018-07-26 03:24:27</td>\n",
       "      <td>2018-07-26 14:31:00</td>\n",
       "      <td>2018-08-07 15:27:45</td>\n",
       "      <td>2018-08-13 00:00:00</td>\n",
       "    </tr>\n",
       "    <tr>\n",
       "      <th>2</th>\n",
       "      <td>47770eb9100c2d0c44946d9cf07ec65d</td>\n",
       "      <td>41ce2a54c0b03bf3443c3d931a367089</td>\n",
       "      <td>delivered</td>\n",
       "      <td>2018-08-08 08:38:49</td>\n",
       "      <td>2018-08-08 08:55:23</td>\n",
       "      <td>2018-08-08 13:50:00</td>\n",
       "      <td>2018-08-17 18:06:29</td>\n",
       "      <td>2018-09-04 00:00:00</td>\n",
       "    </tr>\n",
       "    <tr>\n",
       "      <th>3</th>\n",
       "      <td>949d5b44dbf5de918fe9c16f97b45f8a</td>\n",
       "      <td>f88197465ea7920adcdbec7375364d82</td>\n",
       "      <td>delivered</td>\n",
       "      <td>2017-11-18 19:28:06</td>\n",
       "      <td>2017-11-18 19:45:59</td>\n",
       "      <td>2017-11-22 13:39:59</td>\n",
       "      <td>2017-12-02 00:28:42</td>\n",
       "      <td>2017-12-15 00:00:00</td>\n",
       "    </tr>\n",
       "    <tr>\n",
       "      <th>4</th>\n",
       "      <td>ad21c59c0840e6cb83a9ceb5573f8159</td>\n",
       "      <td>8ab97904e6daea8866dbdbc4fb7aad2c</td>\n",
       "      <td>delivered</td>\n",
       "      <td>2018-02-13 21:18:39</td>\n",
       "      <td>2018-02-13 22:20:29</td>\n",
       "      <td>2018-02-14 19:46:34</td>\n",
       "      <td>2018-02-16 18:17:02</td>\n",
       "      <td>2018-02-26 00:00:00</td>\n",
       "    </tr>\n",
       "    <tr>\n",
       "      <th>...</th>\n",
       "      <td>...</td>\n",
       "      <td>...</td>\n",
       "      <td>...</td>\n",
       "      <td>...</td>\n",
       "      <td>...</td>\n",
       "      <td>...</td>\n",
       "      <td>...</td>\n",
       "      <td>...</td>\n",
       "    </tr>\n",
       "    <tr>\n",
       "      <th>95</th>\n",
       "      <td>77e9941864fc840be8e4b1ba5347c0f7</td>\n",
       "      <td>3135962ee745ef39b85576df7ddbaa99</td>\n",
       "      <td>delivered</td>\n",
       "      <td>2018-08-03 08:59:39</td>\n",
       "      <td>2018-08-03 09:31:36</td>\n",
       "      <td>2018-08-03 10:10:00</td>\n",
       "      <td>2018-08-17 00:49:41</td>\n",
       "      <td>2018-08-27 00:00:00</td>\n",
       "    </tr>\n",
       "    <tr>\n",
       "      <th>96</th>\n",
       "      <td>41bb5cee06dbf170878a9ef93ac7e7f5</td>\n",
       "      <td>1833a0540067becaf59368fe4cd4303a</td>\n",
       "      <td>delivered</td>\n",
       "      <td>2018-05-14 08:35:33</td>\n",
       "      <td>2018-05-14 08:52:24</td>\n",
       "      <td>2018-05-16 14:46:00</td>\n",
       "      <td>2018-05-18 14:48:38</td>\n",
       "      <td>2018-06-08 00:00:00</td>\n",
       "    </tr>\n",
       "    <tr>\n",
       "      <th>97</th>\n",
       "      <td>6a0a8bfbbe700284feb0845d95e0867f</td>\n",
       "      <td>68451b39b1314302c08c65a29f1140fc</td>\n",
       "      <td>delivered</td>\n",
       "      <td>2017-11-22 11:32:22</td>\n",
       "      <td>2017-11-22 11:46:50</td>\n",
       "      <td>2017-11-27 13:39:35</td>\n",
       "      <td>2017-12-28 19:43:00</td>\n",
       "      <td>2017-12-11 00:00:00</td>\n",
       "    </tr>\n",
       "    <tr>\n",
       "      <th>98</th>\n",
       "      <td>f7959f8385f34c4f645327465a1c9fc4</td>\n",
       "      <td>0bf19317b1830a69e55b40710576aa7a</td>\n",
       "      <td>delivered</td>\n",
       "      <td>2017-03-30 07:50:33</td>\n",
       "      <td>2017-03-30 08:05:08</td>\n",
       "      <td>2017-03-30 10:55:54</td>\n",
       "      <td>2017-04-10 02:59:52</td>\n",
       "      <td>2017-04-26 00:00:00</td>\n",
       "    </tr>\n",
       "    <tr>\n",
       "      <th>99</th>\n",
       "      <td>23f553848a03aaab35bb3f9f87725125</td>\n",
       "      <td>c622b892a190735ef81c0087973fa16d</td>\n",
       "      <td>delivered</td>\n",
       "      <td>2018-06-05 09:10:34</td>\n",
       "      <td>2018-06-05 09:32:22</td>\n",
       "      <td>2018-06-06 15:37:00</td>\n",
       "      <td>2018-06-18 12:36:54</td>\n",
       "      <td>2018-07-23 00:00:00</td>\n",
       "    </tr>\n",
       "  </tbody>\n",
       "</table>\n",
       "<p>100 rows × 8 columns</p>\n",
       "</div>"
      ],
      "text/plain": [
       "                            order_id                       customer_id  \\\n",
       "0   e481f51cbdc54678b7cc49136f2d6af7  9ef432eb6251297304e76186b10a928d   \n",
       "1   53cdb2fc8bc7dce0b6741e2150273451  b0830fb4747a6c6d20dea0b8c802d7ef   \n",
       "2   47770eb9100c2d0c44946d9cf07ec65d  41ce2a54c0b03bf3443c3d931a367089   \n",
       "3   949d5b44dbf5de918fe9c16f97b45f8a  f88197465ea7920adcdbec7375364d82   \n",
       "4   ad21c59c0840e6cb83a9ceb5573f8159  8ab97904e6daea8866dbdbc4fb7aad2c   \n",
       "..                               ...                               ...   \n",
       "95  77e9941864fc840be8e4b1ba5347c0f7  3135962ee745ef39b85576df7ddbaa99   \n",
       "96  41bb5cee06dbf170878a9ef93ac7e7f5  1833a0540067becaf59368fe4cd4303a   \n",
       "97  6a0a8bfbbe700284feb0845d95e0867f  68451b39b1314302c08c65a29f1140fc   \n",
       "98  f7959f8385f34c4f645327465a1c9fc4  0bf19317b1830a69e55b40710576aa7a   \n",
       "99  23f553848a03aaab35bb3f9f87725125  c622b892a190735ef81c0087973fa16d   \n",
       "\n",
       "   order_status order_purchase_timestamp    order_approved_at  \\\n",
       "0     delivered      2017-10-02 10:56:33  2017-10-02 11:07:15   \n",
       "1     delivered      2018-07-24 20:41:37  2018-07-26 03:24:27   \n",
       "2     delivered      2018-08-08 08:38:49  2018-08-08 08:55:23   \n",
       "3     delivered      2017-11-18 19:28:06  2017-11-18 19:45:59   \n",
       "4     delivered      2018-02-13 21:18:39  2018-02-13 22:20:29   \n",
       "..          ...                      ...                  ...   \n",
       "95    delivered      2018-08-03 08:59:39  2018-08-03 09:31:36   \n",
       "96    delivered      2018-05-14 08:35:33  2018-05-14 08:52:24   \n",
       "97    delivered      2017-11-22 11:32:22  2017-11-22 11:46:50   \n",
       "98    delivered      2017-03-30 07:50:33  2017-03-30 08:05:08   \n",
       "99    delivered      2018-06-05 09:10:34  2018-06-05 09:32:22   \n",
       "\n",
       "   order_delivered_carrier_date order_delivered_customer_date  \\\n",
       "0           2017-10-04 19:55:00           2017-10-10 21:25:13   \n",
       "1           2018-07-26 14:31:00           2018-08-07 15:27:45   \n",
       "2           2018-08-08 13:50:00           2018-08-17 18:06:29   \n",
       "3           2017-11-22 13:39:59           2017-12-02 00:28:42   \n",
       "4           2018-02-14 19:46:34           2018-02-16 18:17:02   \n",
       "..                          ...                           ...   \n",
       "95          2018-08-03 10:10:00           2018-08-17 00:49:41   \n",
       "96          2018-05-16 14:46:00           2018-05-18 14:48:38   \n",
       "97          2017-11-27 13:39:35           2017-12-28 19:43:00   \n",
       "98          2017-03-30 10:55:54           2017-04-10 02:59:52   \n",
       "99          2018-06-06 15:37:00           2018-06-18 12:36:54   \n",
       "\n",
       "   order_estimated_delivery_date  \n",
       "0            2017-10-18 00:00:00  \n",
       "1            2018-08-13 00:00:00  \n",
       "2            2018-09-04 00:00:00  \n",
       "3            2017-12-15 00:00:00  \n",
       "4            2018-02-26 00:00:00  \n",
       "..                           ...  \n",
       "95           2018-08-27 00:00:00  \n",
       "96           2018-06-08 00:00:00  \n",
       "97           2017-12-11 00:00:00  \n",
       "98           2017-04-26 00:00:00  \n",
       "99           2018-07-23 00:00:00  \n",
       "\n",
       "[100 rows x 8 columns]"
      ]
     },
     "execution_count": 8,
     "metadata": {},
     "output_type": "execute_result"
    }
   ],
   "source": [
    "# imprime as 100 primeiras linhas do dataframe\n",
    "df.head(100)"
   ]
  },
  {
   "cell_type": "code",
   "execution_count": 9,
   "metadata": {},
   "outputs": [
    {
     "data": {
      "text/html": [
       "<div>\n",
       "<style scoped>\n",
       "    .dataframe tbody tr th:only-of-type {\n",
       "        vertical-align: middle;\n",
       "    }\n",
       "\n",
       "    .dataframe tbody tr th {\n",
       "        vertical-align: top;\n",
       "    }\n",
       "\n",
       "    .dataframe thead th {\n",
       "        text-align: right;\n",
       "    }\n",
       "</style>\n",
       "<table border=\"1\" class=\"dataframe\">\n",
       "  <thead>\n",
       "    <tr style=\"text-align: right;\">\n",
       "      <th></th>\n",
       "      <th>order_id</th>\n",
       "      <th>customer_id</th>\n",
       "      <th>order_status</th>\n",
       "      <th>order_purchase_timestamp</th>\n",
       "      <th>order_approved_at</th>\n",
       "      <th>order_delivered_carrier_date</th>\n",
       "      <th>order_delivered_customer_date</th>\n",
       "      <th>order_estimated_delivery_date</th>\n",
       "    </tr>\n",
       "  </thead>\n",
       "  <tbody>\n",
       "    <tr>\n",
       "      <th>count</th>\n",
       "      <td>99441</td>\n",
       "      <td>99441</td>\n",
       "      <td>99441</td>\n",
       "      <td>99441</td>\n",
       "      <td>99441</td>\n",
       "      <td>99441</td>\n",
       "      <td>99441</td>\n",
       "      <td>99441</td>\n",
       "    </tr>\n",
       "    <tr>\n",
       "      <th>unique</th>\n",
       "      <td>99441</td>\n",
       "      <td>99441</td>\n",
       "      <td>8</td>\n",
       "      <td>98875</td>\n",
       "      <td>90734</td>\n",
       "      <td>81019</td>\n",
       "      <td>95665</td>\n",
       "      <td>459</td>\n",
       "    </tr>\n",
       "    <tr>\n",
       "      <th>top</th>\n",
       "      <td>ead4584d779958e7605fe628d3f253f0</td>\n",
       "      <td>41c584ea27753451d9bf606771103289</td>\n",
       "      <td>delivered</td>\n",
       "      <td>2018-08-02 12:06:07</td>\n",
       "      <td></td>\n",
       "      <td></td>\n",
       "      <td></td>\n",
       "      <td>2017-12-20 00:00:00</td>\n",
       "    </tr>\n",
       "    <tr>\n",
       "      <th>freq</th>\n",
       "      <td>1</td>\n",
       "      <td>1</td>\n",
       "      <td>96478</td>\n",
       "      <td>3</td>\n",
       "      <td>160</td>\n",
       "      <td>1783</td>\n",
       "      <td>2965</td>\n",
       "      <td>522</td>\n",
       "    </tr>\n",
       "  </tbody>\n",
       "</table>\n",
       "</div>"
      ],
      "text/plain": [
       "                                order_id                       customer_id  \\\n",
       "count                              99441                             99441   \n",
       "unique                             99441                             99441   \n",
       "top     ead4584d779958e7605fe628d3f253f0  41c584ea27753451d9bf606771103289   \n",
       "freq                                   1                                 1   \n",
       "\n",
       "       order_status order_purchase_timestamp order_approved_at  \\\n",
       "count         99441                    99441             99441   \n",
       "unique            8                    98875             90734   \n",
       "top       delivered      2018-08-02 12:06:07                     \n",
       "freq          96478                        3               160   \n",
       "\n",
       "       order_delivered_carrier_date order_delivered_customer_date  \\\n",
       "count                         99441                         99441   \n",
       "unique                        81019                         95665   \n",
       "top                                                                 \n",
       "freq                           1783                          2965   \n",
       "\n",
       "       order_estimated_delivery_date  \n",
       "count                          99441  \n",
       "unique                           459  \n",
       "top              2017-12-20 00:00:00  \n",
       "freq                             522  "
      ]
     },
     "execution_count": 9,
     "metadata": {},
     "output_type": "execute_result"
    }
   ],
   "source": [
    "df.describe()"
   ]
  },
  {
   "cell_type": "markdown",
   "metadata": {},
   "source": [
    "**Cria uma nova query**"
   ]
  },
  {
   "cell_type": "code",
   "execution_count": 10,
   "metadata": {},
   "outputs": [],
   "source": [
    "query2 = ''' SELECT PAYMENT_TYPE\n",
    "                   ,AVG(PAYMENT_VALUE)\n",
    "             FROM ORDER_PAYMENTS\n",
    "             GROUP BY PAYMENT_TYPE;\n",
    "         '''"
   ]
  },
  {
   "cell_type": "markdown",
   "metadata": {},
   "source": [
    "**Consulta o banco de dados e cria um dataframe pandas**"
   ]
  },
  {
   "cell_type": "code",
   "execution_count": 11,
   "metadata": {},
   "outputs": [],
   "source": [
    "df2 = pd.read_sql_query(query2, conexao)"
   ]
  },
  {
   "cell_type": "markdown",
   "metadata": {},
   "source": [
    "**Imprime o dataframe**"
   ]
  },
  {
   "cell_type": "code",
   "execution_count": 12,
   "metadata": {},
   "outputs": [
    {
     "data": {
      "text/html": [
       "<div>\n",
       "<style scoped>\n",
       "    .dataframe tbody tr th:only-of-type {\n",
       "        vertical-align: middle;\n",
       "    }\n",
       "\n",
       "    .dataframe tbody tr th {\n",
       "        vertical-align: top;\n",
       "    }\n",
       "\n",
       "    .dataframe thead th {\n",
       "        text-align: right;\n",
       "    }\n",
       "</style>\n",
       "<table border=\"1\" class=\"dataframe\">\n",
       "  <thead>\n",
       "    <tr style=\"text-align: right;\">\n",
       "      <th></th>\n",
       "      <th>payment_type</th>\n",
       "      <th>AVG(PAYMENT_VALUE)</th>\n",
       "    </tr>\n",
       "  </thead>\n",
       "  <tbody>\n",
       "    <tr>\n",
       "      <th>0</th>\n",
       "      <td>boleto</td>\n",
       "      <td>145.034435</td>\n",
       "    </tr>\n",
       "    <tr>\n",
       "      <th>1</th>\n",
       "      <td>credit_card</td>\n",
       "      <td>163.319021</td>\n",
       "    </tr>\n",
       "    <tr>\n",
       "      <th>2</th>\n",
       "      <td>debit_card</td>\n",
       "      <td>142.570170</td>\n",
       "    </tr>\n",
       "    <tr>\n",
       "      <th>3</th>\n",
       "      <td>not_defined</td>\n",
       "      <td>0.000000</td>\n",
       "    </tr>\n",
       "    <tr>\n",
       "      <th>4</th>\n",
       "      <td>voucher</td>\n",
       "      <td>65.703354</td>\n",
       "    </tr>\n",
       "  </tbody>\n",
       "</table>\n",
       "</div>"
      ],
      "text/plain": [
       "  payment_type  AVG(PAYMENT_VALUE)\n",
       "0       boleto          145.034435\n",
       "1  credit_card          163.319021\n",
       "2   debit_card          142.570170\n",
       "3  not_defined            0.000000\n",
       "4      voucher           65.703354"
      ]
     },
     "execution_count": 12,
     "metadata": {},
     "output_type": "execute_result"
    }
   ],
   "source": [
    "df2.head()"
   ]
  }
 ],
 "metadata": {
  "kernelspec": {
   "display_name": "Python 3 (ipykernel)",
   "language": "python",
   "name": "python3"
  },
  "language_info": {
   "codemirror_mode": {
    "name": "ipython",
    "version": 3
   },
   "file_extension": ".py",
   "mimetype": "text/x-python",
   "name": "python",
   "nbconvert_exporter": "python",
   "pygments_lexer": "ipython3",
   "version": "3.8.10"
  }
 },
 "nbformat": 4,
 "nbformat_minor": 4
}
