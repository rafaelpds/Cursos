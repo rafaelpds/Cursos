{
  "nbformat": 4,
  "nbformat_minor": 5,
  "metadata": {
    "kernelspec": {
      "display_name": "Python 3 (ipykernel)",
      "language": "python",
      "name": "python3"
    },
    "language_info": {
      "codemirror_mode": {
        "name": "ipython",
        "version": 3
      },
      "file_extension": ".py",
      "mimetype": "text/x-python",
      "name": "python",
      "nbconvert_exporter": "python",
      "pygments_lexer": "ipython3",
      "version": "3.8.10"
    },
    "colab": {
      "name": "Python_basico.ipynb",
      "provenance": [],
      "collapsed_sections": [],
      "include_colab_link": true
    }
  },
  "cells": [
    {
      "cell_type": "markdown",
      "metadata": {
        "id": "view-in-github",
        "colab_type": "text"
      },
      "source": [
        "<a href=\"https://colab.research.google.com/github/rafaelpds/Cursos_Data_Science/blob/master/Python_basico.ipynb\" target=\"_parent\"><img src=\"https://colab.research.google.com/assets/colab-badge.svg\" alt=\"Open In Colab\"/></a>"
      ]
    },
    {
      "cell_type": "markdown",
      "metadata": {
        "id": "61b893e6-c043-41bf-96e5-e7fe5eededed"
      },
      "source": [
        "# Estudo Python"
      ],
      "id": "61b893e6-c043-41bf-96e5-e7fe5eededed"
    },
    {
      "cell_type": "markdown",
      "metadata": {
        "id": "9aee0fbd-9777-48f0-8ece-c3ca9c03651a"
      },
      "source": [
        "## Trabalhando com função"
      ],
      "id": "9aee0fbd-9777-48f0-8ece-c3ca9c03651a"
    },
    {
      "cell_type": "code",
      "metadata": {
        "id": "263bc250-c94f-436e-bbab-850f1a6de8f4"
      },
      "source": [
        "def saudacao():\n",
        "    nome = input('Qual o seu nome?')\n",
        "    print(f'Olá {nome}')"
      ],
      "id": "263bc250-c94f-436e-bbab-850f1a6de8f4",
      "execution_count": null,
      "outputs": []
    },
    {
      "cell_type": "code",
      "metadata": {
        "id": "01097173-3bc6-47cb-89de-7b5fbb933f86",
        "outputId": "a1a6b3ec-40b4-4c63-95b9-f33864043063"
      },
      "source": [
        "saudacao()"
      ],
      "id": "01097173-3bc6-47cb-89de-7b5fbb933f86",
      "execution_count": null,
      "outputs": [
        {
          "name": "stdin",
          "output_type": "stream",
          "text": [
            "Qual o seu nome? Rafa\n"
          ]
        },
        {
          "name": "stdout",
          "output_type": "stream",
          "text": [
            "Olá Rafa\n"
          ]
        },
        {
          "data": {
            "text/plain": [
              "<function __main__.saudacao()>"
            ]
          },
          "execution_count": 7,
          "metadata": {},
          "output_type": "execute_result"
        }
      ]
    },
    {
      "cell_type": "code",
      "metadata": {
        "id": "05f26503-175a-42cd-ae64-b68f13eaf703"
      },
      "source": [
        "def cadastro():\n",
        "    nome = input('Qual o seu nome? ')\n",
        "    cidade = input('Qual a sua cidade?')\n",
        "    idade = input('Qual a sua idade?')\n",
        "    print(f'Olá {nome} a sua idade é {idade} e a sua cidade é {cidade}')"
      ],
      "id": "05f26503-175a-42cd-ae64-b68f13eaf703",
      "execution_count": null,
      "outputs": []
    },
    {
      "cell_type": "code",
      "metadata": {
        "id": "2bf4d466-e921-4a16-8c0b-86ee0b6720bb",
        "outputId": "c67c59c7-3c10-499f-884e-4d6381d4661d"
      },
      "source": [
        "cadastro()"
      ],
      "id": "2bf4d466-e921-4a16-8c0b-86ee0b6720bb",
      "execution_count": null,
      "outputs": [
        {
          "name": "stdin",
          "output_type": "stream",
          "text": [
            "Qual o seu nome?  Rafael\n",
            "Qual a sua cidade? RJ\n",
            "Qual a sua idade? 31\n"
          ]
        },
        {
          "name": "stdout",
          "output_type": "stream",
          "text": [
            "Olá Rafael a sua idade é 31 e a sua cidade é RJ\n"
          ]
        }
      ]
    },
    {
      "cell_type": "code",
      "metadata": {
        "id": "a557571b-e8ee-47a4-adad-8f9e3764fce5",
        "outputId": "69eb89f8-1568-4d45-9b11-2763893d3a0e"
      },
      "source": [
        "def nome_completo():\n",
        " primeiro_nome = input('Qual seu primeiro nome? ')\n",
        " sobrenome = input('Qual seu sobrenome? ')\n",
        " nome_inteiro = primeiro_nome + ' ' + sobrenome\n",
        " print(nome_inteiro)\n",
        "\n",
        "nome_completo()"
      ],
      "id": "a557571b-e8ee-47a4-adad-8f9e3764fce5",
      "execution_count": null,
      "outputs": [
        {
          "name": "stdin",
          "output_type": "stream",
          "text": [
            "Qual seu primeiro nome?  Rafael\n",
            "Qual seu sobrenome?  Santos\n"
          ]
        },
        {
          "name": "stdout",
          "output_type": "stream",
          "text": [
            "Rafael Santos\n"
          ]
        }
      ]
    },
    {
      "cell_type": "markdown",
      "metadata": {
        "id": "b6c92de7-d895-41e5-a999-861749a3eaf5"
      },
      "source": [
        "## Utilizando Parâmetros"
      ],
      "id": "b6c92de7-d895-41e5-a999-861749a3eaf5"
    },
    {
      "cell_type": "code",
      "metadata": {
        "id": "7e994d36-59b6-4859-87c4-c92a343b7972",
        "outputId": "b63def87-a46d-4fa6-9df1-11130123c280"
      },
      "source": [
        "idade = input('Qual a sua idade? ')\n",
        "idade = int(idade)"
      ],
      "id": "7e994d36-59b6-4859-87c4-c92a343b7972",
      "execution_count": null,
      "outputs": [
        {
          "name": "stdin",
          "output_type": "stream",
          "text": [
            "Qual a sua idade?  18\n"
          ]
        }
      ]
    },
    {
      "cell_type": "code",
      "metadata": {
        "id": "e4cffed1-2c0f-4836-83d8-dc18eeda828d"
      },
      "source": [
        "def validacao_permissao(idade_validacao):\n",
        "    if idade_validacao >= 18:\n",
        "        print(f'Você tem {idade_validacao} anos e tem permissão para dirigir')\n",
        "    else:\n",
        "        print(f'Você tem {idade_validacao} anos e não possui permissão para dirigir')"
      ],
      "id": "e4cffed1-2c0f-4836-83d8-dc18eeda828d",
      "execution_count": null,
      "outputs": []
    },
    {
      "cell_type": "code",
      "metadata": {
        "id": "3ed867e9-a117-4f40-bfcb-ab059fe31b78",
        "outputId": "920d4c2e-0585-4d95-a6a1-d35da7ea8e3a"
      },
      "source": [
        "validacao_permissao(idade)"
      ],
      "id": "3ed867e9-a117-4f40-bfcb-ab059fe31b78",
      "execution_count": null,
      "outputs": [
        {
          "name": "stdout",
          "output_type": "stream",
          "text": [
            "Você tem 18 anos e tem permissão para dirigir\n"
          ]
        }
      ]
    },
    {
      "cell_type": "markdown",
      "metadata": {
        "id": "4fa27a93-de29-4500-a51c-b6a84bde381d"
      },
      "source": [
        "### Passando dois Parâmetros para a função"
      ],
      "id": "4fa27a93-de29-4500-a51c-b6a84bde381d"
    },
    {
      "cell_type": "code",
      "metadata": {
        "id": "8812895f-528f-4461-bcb1-22c7b46c2c0b",
        "outputId": "08fc1902-3036-4770-b9cc-fa6ae0008133"
      },
      "source": [
        "nome = input('Qual o seu nome? ')\n",
        "dt_nasc = input('Qual a sua data de nascimento? ')\n",
        "idade = input('Qual a sua idade? ')\n",
        "idade = int(idade)"
      ],
      "id": "8812895f-528f-4461-bcb1-22c7b46c2c0b",
      "execution_count": null,
      "outputs": [
        {
          "name": "stdin",
          "output_type": "stream",
          "text": [
            "Qual o seu nome?  Daniel\n",
            "Qual a sua data de nascimento?  28/06/2021\n",
            "Qual a sua idade?  18\n"
          ]
        }
      ]
    },
    {
      "cell_type": "code",
      "metadata": {
        "id": "caf7c028-c5bf-44a5-9de8-068b74f6ddcd"
      },
      "source": [
        "def exibir_cadastro(nome_pessoa, dt_nasc_pessoa, idade_pessoa):\n",
        "    print(f'Olá {nome_pessoa}, você nasceu em {dt_nasc_pessoa} e tem {idade_pessoa} anos.')"
      ],
      "id": "caf7c028-c5bf-44a5-9de8-068b74f6ddcd",
      "execution_count": null,
      "outputs": []
    },
    {
      "cell_type": "code",
      "metadata": {
        "id": "47cbbeff-df9b-4522-9bb7-af256aaf263d",
        "outputId": "7fdbf173-944c-4a39-88b4-f2dbfb5d9853"
      },
      "source": [
        "exibir_cadastro(nome, dt_nasc, idade)"
      ],
      "id": "47cbbeff-df9b-4522-9bb7-af256aaf263d",
      "execution_count": null,
      "outputs": [
        {
          "name": "stdout",
          "output_type": "stream",
          "text": [
            "Olá Daniel, você nasceu em 28/06/2021 e tem 18 anos.\n"
          ]
        }
      ]
    },
    {
      "cell_type": "markdown",
      "metadata": {
        "id": "70256f04-280d-4d8d-81a7-251653ad34e9"
      },
      "source": [
        "## Listas"
      ],
      "id": "70256f04-280d-4d8d-81a7-251653ad34e9"
    },
    {
      "cell_type": "code",
      "metadata": {
        "id": "c7bcc66f-24f0-4b6a-af1a-de6196d7f51a"
      },
      "source": [
        "idades = [18, 22, 15, 50]"
      ],
      "id": "c7bcc66f-24f0-4b6a-af1a-de6196d7f51a",
      "execution_count": null,
      "outputs": []
    },
    {
      "cell_type": "code",
      "metadata": {
        "id": "38c2951f-1102-4de1-9155-c8d2645f7e7c",
        "outputId": "b5dc6820-1feb-43ca-a126-0bebca32be6c"
      },
      "source": [
        "idades[2]"
      ],
      "id": "38c2951f-1102-4de1-9155-c8d2645f7e7c",
      "execution_count": null,
      "outputs": [
        {
          "data": {
            "text/plain": [
              "15"
            ]
          },
          "execution_count": 41,
          "metadata": {},
          "output_type": "execute_result"
        }
      ]
    },
    {
      "cell_type": "code",
      "metadata": {
        "id": "20a0aeb8-c256-4950-b4fe-a4f4de7c036f",
        "outputId": "390880b4-70c2-4279-c39c-db55490b8fbd"
      },
      "source": [
        "idades[0:2]"
      ],
      "id": "20a0aeb8-c256-4950-b4fe-a4f4de7c036f",
      "execution_count": null,
      "outputs": [
        {
          "data": {
            "text/plain": [
              "[18, 22]"
            ]
          },
          "execution_count": 42,
          "metadata": {},
          "output_type": "execute_result"
        }
      ]
    },
    {
      "cell_type": "code",
      "metadata": {
        "id": "d8db249c-435f-48dc-9f95-71e9adc45a5c",
        "outputId": "73e79965-4608-4384-9e86-e889eee59c39"
      },
      "source": [
        "idades[1:]"
      ],
      "id": "d8db249c-435f-48dc-9f95-71e9adc45a5c",
      "execution_count": null,
      "outputs": [
        {
          "data": {
            "text/plain": [
              "[22, 15, 50]"
            ]
          },
          "execution_count": 43,
          "metadata": {},
          "output_type": "execute_result"
        }
      ]
    },
    {
      "cell_type": "markdown",
      "metadata": {
        "id": "108b9a40-9c39-44f6-aeb7-875fbc1450db"
      },
      "source": [
        "# Laços e Loops"
      ],
      "id": "108b9a40-9c39-44f6-aeb7-875fbc1450db"
    },
    {
      "cell_type": "code",
      "metadata": {
        "id": "1da19c7b-7ea1-4245-a1be-752a59dc44d2",
        "outputId": "034e6015-c701-48a7-c80e-70f1ad2e31a0"
      },
      "source": [
        "def verifica_se_pode_dirigir(idades):\n",
        "    for idade in idades:\n",
        "        if idade >= 18:\n",
        "            print(f'{idade} anos de idade, tem permissão para dirigir')\n",
        "        else:\n",
        "            print(f'{idade} anos de idade, não tem permissão para dirigir')\n",
        "\n",
        "verifica_se_pode_dirigir(idades)"
      ],
      "id": "1da19c7b-7ea1-4245-a1be-752a59dc44d2",
      "execution_count": null,
      "outputs": [
        {
          "name": "stdout",
          "output_type": "stream",
          "text": [
            "18 anos de idade, tem permissão para dirigir\n",
            "22 anos de idade, tem permissão para dirigir\n",
            "15 anos de idade, não tem permissão para dirigir\n",
            "50 anos de idade, tem permissão para dirigir\n"
          ]
        }
      ]
    },
    {
      "cell_type": "markdown",
      "metadata": {
        "id": "b33e7484-ee9b-4bb4-bb02-871d101f5b1a"
      },
      "source": [
        "# Random"
      ],
      "id": "b33e7484-ee9b-4bb4-bb02-871d101f5b1a"
    },
    {
      "cell_type": "code",
      "metadata": {
        "id": "be4cf2b4-9321-45c6-846c-67aabb2ab4aa"
      },
      "source": [
        "from random import randrange, seed"
      ],
      "id": "be4cf2b4-9321-45c6-846c-67aabb2ab4aa",
      "execution_count": 10,
      "outputs": []
    },
    {
      "cell_type": "code",
      "metadata": {
        "id": "4b3616ef-492a-4e1d-94db-e40001f5306c",
        "outputId": "390d2f61-f721-40af-87dd-89ceef078c43"
      },
      "source": [
        "randrange(0,11)"
      ],
      "id": "4b3616ef-492a-4e1d-94db-e40001f5306c",
      "execution_count": null,
      "outputs": [
        {
          "data": {
            "text/plain": [
              "9"
            ]
          },
          "execution_count": 48,
          "metadata": {},
          "output_type": "execute_result"
        }
      ]
    },
    {
      "cell_type": "code",
      "metadata": {
        "id": "90f83979-7b54-4a38-9163-1efa253429a6",
        "outputId": "cfef9345-4fdd-4644-da93-c5d45bea27e4"
      },
      "source": [
        "notas_matematica = []\n",
        "\n",
        "notas_matematica.append(randrange(0,11))\n",
        "\n",
        "notas_matematica"
      ],
      "id": "90f83979-7b54-4a38-9163-1efa253429a6",
      "execution_count": null,
      "outputs": [
        {
          "data": {
            "text/plain": [
              "[10]"
            ]
          },
          "execution_count": 55,
          "metadata": {},
          "output_type": "execute_result"
        }
      ]
    },
    {
      "cell_type": "code",
      "metadata": {
        "id": "167e6d3c-aac7-4f08-a212-68c92e21c2fb"
      },
      "source": [
        "notas_matematica = []\n",
        "\n",
        "for notas in range(8):\n",
        "    notas_matematica.append(randrange(0,11))"
      ],
      "id": "167e6d3c-aac7-4f08-a212-68c92e21c2fb",
      "execution_count": null,
      "outputs": []
    },
    {
      "cell_type": "code",
      "metadata": {
        "id": "f4319b25-cd91-4938-affc-837c0a9406de",
        "outputId": "88578352-ffe1-490e-b48c-525dbd084ff8"
      },
      "source": [
        "notas_matematica"
      ],
      "id": "f4319b25-cd91-4938-affc-837c0a9406de",
      "execution_count": null,
      "outputs": [
        {
          "data": {
            "text/plain": [
              "[5, 10, 3, 10, 10, 0, 0, 7]"
            ]
          },
          "execution_count": 60,
          "metadata": {},
          "output_type": "execute_result"
        }
      ]
    },
    {
      "cell_type": "markdown",
      "metadata": {
        "id": "ddc0de00-fbe5-4d81-b7d6-1c0bd3afb13f"
      },
      "source": [
        "### Passando o seed"
      ],
      "id": "ddc0de00-fbe5-4d81-b7d6-1c0bd3afb13f"
    },
    {
      "cell_type": "code",
      "metadata": {
        "id": "3e6f7c82-d7e7-4c01-ad47-7b2509c044da"
      },
      "source": [
        "seed(0)"
      ],
      "id": "3e6f7c82-d7e7-4c01-ad47-7b2509c044da",
      "execution_count": null,
      "outputs": []
    },
    {
      "cell_type": "code",
      "metadata": {
        "id": "835871d2-7436-4450-8194-5512cd984d73",
        "outputId": "bdeb78d4-5055-4e82-a6f0-f8c663f92aed"
      },
      "source": [
        "notas_matematica = []\n",
        "\n",
        "notas_matematica.append(randrange(0,11))\n",
        "\n",
        "notas_matematica"
      ],
      "id": "835871d2-7436-4450-8194-5512cd984d73",
      "execution_count": null,
      "outputs": [
        {
          "data": {
            "text/plain": [
              "[6]"
            ]
          },
          "execution_count": 81,
          "metadata": {},
          "output_type": "execute_result"
        }
      ]
    },
    {
      "cell_type": "code",
      "metadata": {
        "id": "a035cb82-d578-42e6-aff8-50abba41b27d",
        "outputId": "358737c4-1fbc-495d-a29d-8b182b903dcd"
      },
      "source": [
        "notas_matematica = []\n",
        "\n",
        "for notas in range(8):\n",
        "    notas_matematica.append(randrange(0,11))\n",
        "notas_matematica"
      ],
      "id": "a035cb82-d578-42e6-aff8-50abba41b27d",
      "execution_count": null,
      "outputs": [
        {
          "data": {
            "text/plain": [
              "[6, 0, 4, 8, 7, 6, 4, 7]"
            ]
          },
          "execution_count": 82,
          "metadata": {},
          "output_type": "execute_result"
        }
      ]
    },
    {
      "cell_type": "markdown",
      "metadata": {
        "id": "CkXYPSZlGMge"
      },
      "source": [
        "# Matplotlib com Laço"
      ],
      "id": "CkXYPSZlGMge"
    },
    {
      "cell_type": "code",
      "metadata": {
        "id": "qo3ZyU85GfvM"
      },
      "source": [
        "import matplotlib.pyplot as plt"
      ],
      "id": "qo3ZyU85GfvM",
      "execution_count": 2,
      "outputs": []
    },
    {
      "cell_type": "code",
      "metadata": {
        "colab": {
          "base_uri": "https://localhost:8080/"
        },
        "id": "Cbfc1h7aHZEG",
        "outputId": "bc7e5f03-427d-45bd-b2d0-07aebb656963"
      },
      "source": [
        "x = list(range(1,9))\n",
        "x"
      ],
      "id": "Cbfc1h7aHZEG",
      "execution_count": 7,
      "outputs": [
        {
          "output_type": "execute_result",
          "data": {
            "text/plain": [
              "[1, 2, 3, 4, 5, 6, 7, 8]"
            ]
          },
          "metadata": {},
          "execution_count": 7
        }
      ]
    },
    {
      "cell_type": "code",
      "metadata": {
        "id": "YB73WhdsHOFl"
      },
      "source": [
        "notas_matematica = []\n",
        "\n",
        "for notas in range(8):\n",
        "    notas_matematica.append(randrange(0,8))\n",
        "y = notas_matematica"
      ],
      "id": "YB73WhdsHOFl",
      "execution_count": 12,
      "outputs": []
    },
    {
      "cell_type": "code",
      "metadata": {
        "colab": {
          "base_uri": "https://localhost:8080/"
        },
        "id": "QivOPsA7JsZN",
        "outputId": "c487aa13-7c6e-44b7-add9-7a8c857a20d7"
      },
      "source": [
        "y"
      ],
      "id": "QivOPsA7JsZN",
      "execution_count": 16,
      "outputs": [
        {
          "output_type": "execute_result",
          "data": {
            "text/plain": [
              "[1, 4, 5, 2, 1, 6, 5, 2]"
            ]
          },
          "metadata": {},
          "execution_count": 16
        }
      ]
    },
    {
      "cell_type": "code",
      "metadata": {
        "colab": {
          "base_uri": "https://localhost:8080/",
          "height": 295
        },
        "id": "7Wgg0h4PI1mc",
        "outputId": "04843a89-55be-4d0f-c961-36cd2a9b795c"
      },
      "source": [
        "plt.plot(x, y, marker='o')\n",
        "plt.title('Notas Matematica')\n",
        "plt.xlabel('Provas')\n",
        "plt.ylabel('Notas')\n",
        "plt.show()"
      ],
      "id": "7Wgg0h4PI1mc",
      "execution_count": 19,
      "outputs": [
        {
          "output_type": "display_data",
          "data": {
            "image/png": "[encoded data removed]",
            "text/plain": [
              "<Figure size 432x288 with 1 Axes>"
            ]
          },
          "metadata": {
            "needs_background": "light"
          }
        }
      ]
    }
  ]
}