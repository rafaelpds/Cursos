{
 "cells": [
  {
   "cell_type": "code",
   "execution_count": 1,
   "id": "dd139ef3-88e2-4e13-a3d0-8f07281f927b",
   "metadata": {},
   "outputs": [],
   "source": [
    "import pandas as pd"
   ]
  },
  {
   "cell_type": "code",
   "execution_count": 4,
   "id": "5ebf9869-8690-473f-ba24-5009d3b34e62",
   "metadata": {},
   "outputs": [
    {
     "data": {
      "text/plain": [
       "'C:\\\\Users\\\\RP150643\\\\Desktop\\\\Rafael\\\\stack_aulas'"
      ]
     },
     "execution_count": 4,
     "metadata": {},
     "output_type": "execute_result"
    }
   ],
   "source": [
    "pwd"
   ]
  },
  {
   "cell_type": "code",
   "execution_count": 6,
   "id": "b8d20492-59bc-47f9-bf6d-84c43f6f2367",
   "metadata": {},
   "outputs": [],
   "source": [
    "df = pd.read_csv('../stack_aulas/material-apoio/material-apoio/covid19.csv')"
   ]
  },
  {
   "cell_type": "code",
   "execution_count": 7,
   "id": "dabe83e1-aa79-4df5-a5b0-3104e3b1c233",
   "metadata": {},
   "outputs": [
    {
     "data": {
      "text/html": [
       "<div>\n",
       "<style scoped>\n",
       "    .dataframe tbody tr th:only-of-type {\n",
       "        vertical-align: middle;\n",
       "    }\n",
       "\n",
       "    .dataframe tbody tr th {\n",
       "        vertical-align: top;\n",
       "    }\n",
       "\n",
       "    .dataframe thead th {\n",
       "        text-align: right;\n",
       "    }\n",
       "</style>\n",
       "<table border=\"1\" class=\"dataframe\">\n",
       "  <thead>\n",
       "    <tr style=\"text-align: right;\">\n",
       "      <th></th>\n",
       "      <th>case_id</th>\n",
       "      <th>provincial_case_id</th>\n",
       "      <th>age</th>\n",
       "      <th>sex</th>\n",
       "      <th>health_region</th>\n",
       "      <th>province</th>\n",
       "      <th>country</th>\n",
       "      <th>date_report</th>\n",
       "      <th>report_week</th>\n",
       "      <th>has_travel_history</th>\n",
       "      <th>locally_acquired</th>\n",
       "      <th>case_source</th>\n",
       "    </tr>\n",
       "  </thead>\n",
       "  <tbody>\n",
       "    <tr>\n",
       "      <th>0</th>\n",
       "      <td>NaN</td>\n",
       "      <td>1</td>\n",
       "      <td>50-59</td>\n",
       "      <td>Male</td>\n",
       "      <td>Toronto</td>\n",
       "      <td>Ontario</td>\n",
       "      <td>Canada</td>\n",
       "      <td>2020-01-25</td>\n",
       "      <td>2020-01-19</td>\n",
       "      <td>t</td>\n",
       "      <td>NaN</td>\n",
       "      <td>(1) https://news.ontario.ca/mohltc/en/2020/01/...</td>\n",
       "    </tr>\n",
       "    <tr>\n",
       "      <th>1</th>\n",
       "      <td>NaN</td>\n",
       "      <td>2</td>\n",
       "      <td>50-59</td>\n",
       "      <td>Female</td>\n",
       "      <td>Toronto</td>\n",
       "      <td>Ontario</td>\n",
       "      <td>Canada</td>\n",
       "      <td>2020-01-27</td>\n",
       "      <td>2020-01-26</td>\n",
       "      <td>t</td>\n",
       "      <td>NaN</td>\n",
       "      <td>(1) https://news.ontario.ca/mohltc/en/2020/01/...</td>\n",
       "    </tr>\n",
       "    <tr>\n",
       "      <th>2</th>\n",
       "      <td>NaN</td>\n",
       "      <td>1</td>\n",
       "      <td>40-49</td>\n",
       "      <td>Male</td>\n",
       "      <td>Vancouver Coastal</td>\n",
       "      <td>BC</td>\n",
       "      <td>Canada</td>\n",
       "      <td>2020-01-28</td>\n",
       "      <td>2020-01-26</td>\n",
       "      <td>t</td>\n",
       "      <td>NaN</td>\n",
       "      <td>https://news.gov.bc.ca/releases/2020HLTH0015-0...</td>\n",
       "    </tr>\n",
       "    <tr>\n",
       "      <th>3</th>\n",
       "      <td>NaN</td>\n",
       "      <td>3</td>\n",
       "      <td>20-29</td>\n",
       "      <td>Female</td>\n",
       "      <td>Middlesex-London</td>\n",
       "      <td>Ontario</td>\n",
       "      <td>Canada</td>\n",
       "      <td>2020-01-31</td>\n",
       "      <td>2020-01-26</td>\n",
       "      <td>t</td>\n",
       "      <td>NaN</td>\n",
       "      <td>(1) https://news.ontario.ca/mohltc/en/2020/01/...</td>\n",
       "    </tr>\n",
       "    <tr>\n",
       "      <th>4</th>\n",
       "      <td>NaN</td>\n",
       "      <td>2</td>\n",
       "      <td>50-59</td>\n",
       "      <td>Female</td>\n",
       "      <td>Vancouver Coastal</td>\n",
       "      <td>BC</td>\n",
       "      <td>Canada</td>\n",
       "      <td>2020-02-04</td>\n",
       "      <td>2020-02-02</td>\n",
       "      <td>f</td>\n",
       "      <td>Close Contact</td>\n",
       "      <td>https://news.gov.bc.ca/releases/2020HLTH0023-0...</td>\n",
       "    </tr>\n",
       "  </tbody>\n",
       "</table>\n",
       "</div>"
      ],
      "text/plain": [
       "   case_id  provincial_case_id    age     sex      health_region province  \\\n",
       "0      NaN                   1  50-59    Male            Toronto  Ontario   \n",
       "1      NaN                   2  50-59  Female            Toronto  Ontario   \n",
       "2      NaN                   1  40-49    Male  Vancouver Coastal       BC   \n",
       "3      NaN                   3  20-29  Female   Middlesex-London  Ontario   \n",
       "4      NaN                   2  50-59  Female  Vancouver Coastal       BC   \n",
       "\n",
       "  country date_report report_week has_travel_history locally_acquired  \\\n",
       "0  Canada  2020-01-25  2020-01-19                  t              NaN   \n",
       "1  Canada  2020-01-27  2020-01-26                  t              NaN   \n",
       "2  Canada  2020-01-28  2020-01-26                  t              NaN   \n",
       "3  Canada  2020-01-31  2020-01-26                  t              NaN   \n",
       "4  Canada  2020-02-04  2020-02-02                  f    Close Contact   \n",
       "\n",
       "                                         case_source  \n",
       "0  (1) https://news.ontario.ca/mohltc/en/2020/01/...  \n",
       "1  (1) https://news.ontario.ca/mohltc/en/2020/01/...  \n",
       "2  https://news.gov.bc.ca/releases/2020HLTH0015-0...  \n",
       "3  (1) https://news.ontario.ca/mohltc/en/2020/01/...  \n",
       "4  https://news.gov.bc.ca/releases/2020HLTH0023-0...  "
      ]
     },
     "execution_count": 7,
     "metadata": {},
     "output_type": "execute_result"
    }
   ],
   "source": [
    "df.head()"
   ]
  },
  {
   "cell_type": "markdown",
   "id": "9f204950-86c9-4be1-8cd4-5bf652d137e8",
   "metadata": {},
   "source": [
    "A intenção desse notebook é estudar estatística"
   ]
  },
  {
   "cell_type": "markdown",
   "id": "4d1e7bc1-0c16-4945-9561-a99239b0145d",
   "metadata": {
    "tags": []
   },
   "source": [
    "## Técnicas de Amostragem"
   ]
  },
  {
   "cell_type": "markdown",
   "id": "82ccef94-7324-4080-bb19-88402afca202",
   "metadata": {},
   "source": [
    "### Amostragem Aleatória"
   ]
  },
  {
   "cell_type": "code",
   "execution_count": 8,
   "id": "14abd43b-c624-4163-8441-86854a515c94",
   "metadata": {},
   "outputs": [
    {
     "name": "stdout",
     "output_type": "stream",
     "text": [
      "<class 'pandas.core.frame.DataFrame'>\n",
      "RangeIndex: 50982 entries, 0 to 50981\n",
      "Data columns (total 12 columns):\n",
      " #   Column              Non-Null Count  Dtype  \n",
      "---  ------              --------------  -----  \n",
      " 0   case_id             0 non-null      float64\n",
      " 1   provincial_case_id  50982 non-null  int64  \n",
      " 2   age                 50982 non-null  object \n",
      " 3   sex                 50982 non-null  object \n",
      " 4   health_region       50982 non-null  object \n",
      " 5   province            50982 non-null  object \n",
      " 6   country             50982 non-null  object \n",
      " 7   date_report         50982 non-null  object \n",
      " 8   report_week         50982 non-null  object \n",
      " 9   has_travel_history  1150 non-null   object \n",
      " 10  locally_acquired    574 non-null    object \n",
      " 11  case_source         50982 non-null  object \n",
      "dtypes: float64(1), int64(1), object(10)\n",
      "memory usage: 4.7+ MB\n"
     ]
    }
   ],
   "source": [
    "df.info()"
   ]
  },
  {
   "cell_type": "code",
   "execution_count": 9,
   "id": "4cfb4bf9-0277-42c1-b28b-c3d52e69988f",
   "metadata": {},
   "outputs": [],
   "source": [
    "df_sample = df.sample(n=1000)"
   ]
  },
  {
   "cell_type": "code",
   "execution_count": 11,
   "id": "59828a94-2298-4062-8e65-134f5bfe5742",
   "metadata": {},
   "outputs": [
    {
     "name": "stdout",
     "output_type": "stream",
     "text": [
      "<class 'pandas.core.frame.DataFrame'>\n",
      "Int64Index: 1000 entries, 25297 to 11758\n",
      "Data columns (total 12 columns):\n",
      " #   Column              Non-Null Count  Dtype  \n",
      "---  ------              --------------  -----  \n",
      " 0   case_id             0 non-null      float64\n",
      " 1   provincial_case_id  1000 non-null   int64  \n",
      " 2   age                 1000 non-null   object \n",
      " 3   sex                 1000 non-null   object \n",
      " 4   health_region       1000 non-null   object \n",
      " 5   province            1000 non-null   object \n",
      " 6   country             1000 non-null   object \n",
      " 7   date_report         1000 non-null   object \n",
      " 8   report_week         1000 non-null   object \n",
      " 9   has_travel_history  25 non-null     object \n",
      " 10  locally_acquired    11 non-null     object \n",
      " 11  case_source         1000 non-null   object \n",
      "dtypes: float64(1), int64(1), object(10)\n",
      "memory usage: 101.6+ KB\n"
     ]
    }
   ],
   "source": [
    "df_sample.info()"
   ]
  },
  {
   "cell_type": "markdown",
   "id": "b761bc06-0ca3-4b66-90fa-0f0e415fef70",
   "metadata": {},
   "source": [
    "#### Especificando o tamanho da amostra, através de porcentagem"
   ]
  },
  {
   "cell_type": "code",
   "execution_count": 12,
   "id": "098ec9b8-6af9-477b-9dc2-2b0c87ba3093",
   "metadata": {},
   "outputs": [],
   "source": [
    "df_sample = df.sample(frac=0.10)"
   ]
  },
  {
   "cell_type": "code",
   "execution_count": 13,
   "id": "5cdddad5-6150-4b00-a06c-ef7d892f917b",
   "metadata": {},
   "outputs": [
    {
     "name": "stdout",
     "output_type": "stream",
     "text": [
      "<class 'pandas.core.frame.DataFrame'>\n",
      "Int64Index: 5098 entries, 15666 to 35256\n",
      "Data columns (total 12 columns):\n",
      " #   Column              Non-Null Count  Dtype  \n",
      "---  ------              --------------  -----  \n",
      " 0   case_id             0 non-null      float64\n",
      " 1   provincial_case_id  5098 non-null   int64  \n",
      " 2   age                 5098 non-null   object \n",
      " 3   sex                 5098 non-null   object \n",
      " 4   health_region       5098 non-null   object \n",
      " 5   province            5098 non-null   object \n",
      " 6   country             5098 non-null   object \n",
      " 7   date_report         5098 non-null   object \n",
      " 8   report_week         5098 non-null   object \n",
      " 9   has_travel_history  104 non-null    object \n",
      " 10  locally_acquired    52 non-null     object \n",
      " 11  case_source         5098 non-null   object \n",
      "dtypes: float64(1), int64(1), object(10)\n",
      "memory usage: 517.8+ KB\n"
     ]
    }
   ],
   "source": [
    "df_sample.info()"
   ]
  },
  {
   "cell_type": "markdown",
   "id": "e8c2b0e5-b79b-42e0-bc5d-c5a8f3120511",
   "metadata": {},
   "source": [
    "### Amostragem Estratificada"
   ]
  },
  {
   "cell_type": "code",
   "execution_count": 15,
   "id": "cb8dfc99-cca5-413f-ad3d-6de73573ab27",
   "metadata": {},
   "outputs": [],
   "source": [
    "from sklearn.model_selection import train_test_split"
   ]
  },
  {
   "cell_type": "markdown",
   "id": "87f1ec57-0a96-46e2-90f8-5c18a5acd54c",
   "metadata": {},
   "source": [
    "Contagem de registros"
   ]
  },
  {
   "cell_type": "code",
   "execution_count": 16,
   "id": "01a6721f-d3e4-4536-ab3d-baf63b5072ee",
   "metadata": {},
   "outputs": [
    {
     "data": {
      "text/plain": [
       "Quebec           25757\n",
       "Ontario          16337\n",
       "Alberta           4850\n",
       "BC                2053\n",
       "Nova Scotia        915\n",
       "Saskatchewan       366\n",
       "Manitoba           272\n",
       "NL                 258\n",
       "New Brunswick      118\n",
       "PEI                 27\n",
       "Repatriated         13\n",
       "Yukon               11\n",
       "NWT                  5\n",
       "Name: province, dtype: int64"
      ]
     },
     "execution_count": 16,
     "metadata": {},
     "output_type": "execute_result"
    }
   ],
   "source": [
    "df['province'].value_counts()"
   ]
  },
  {
   "cell_type": "code",
   "execution_count": 18,
   "id": "97953c32-fa11-490c-a08c-d4ee8c1d2ae6",
   "metadata": {},
   "outputs": [],
   "source": [
    "X_train, X_test, y_train, y_test = train_test_split(df.drop('province', axis=1),\n",
    "                                  df['province'],\n",
    "                                  stratify=df['province'],\n",
    "                                  test_size=0.20\n",
    ")"
   ]
  },
  {
   "cell_type": "code",
   "execution_count": 19,
   "id": "e5a85395-6fd5-4237-96b7-aeafc4fc7106",
   "metadata": {},
   "outputs": [
    {
     "data": {
      "text/plain": [
       "(10197,)"
      ]
     },
     "execution_count": 19,
     "metadata": {},
     "output_type": "execute_result"
    }
   ],
   "source": [
    "y_test.shape"
   ]
  },
  {
   "cell_type": "code",
   "execution_count": 20,
   "id": "2247362c-db8b-41ea-8232-d153b12f24c6",
   "metadata": {},
   "outputs": [
    {
     "data": {
      "text/plain": [
       "Quebec           5152\n",
       "Ontario          3267\n",
       "Alberta           970\n",
       "BC                411\n",
       "Nova Scotia       183\n",
       "Saskatchewan       73\n",
       "Manitoba           54\n",
       "NL                 52\n",
       "New Brunswick      24\n",
       "PEI                 5\n",
       "Repatriated         3\n",
       "Yukon               2\n",
       "NWT                 1\n",
       "Name: province, dtype: int64"
      ]
     },
     "execution_count": 20,
     "metadata": {},
     "output_type": "execute_result"
    }
   ],
   "source": [
    "y_test.value_counts()"
   ]
  },
  {
   "cell_type": "markdown",
   "id": "9cc3a296-35f0-4547-af67-fba738f52453",
   "metadata": {},
   "source": [
    "### Amostragem Sistematica"
   ]
  },
  {
   "cell_type": "code",
   "execution_count": 21,
   "id": "f51dc797-2747-48dc-b377-cf3a2316544c",
   "metadata": {},
   "outputs": [],
   "source": [
    "import numpy as np"
   ]
  },
  {
   "cell_type": "code",
   "execution_count": 22,
   "id": "c1deeb8d-1faa-4fa3-8b5d-23c2badba21d",
   "metadata": {},
   "outputs": [],
   "source": [
    "seed = np.random.choice(10,1)"
   ]
  },
  {
   "cell_type": "code",
   "execution_count": 23,
   "id": "eb19bf2d-8c4f-4461-9e44-8066c537e396",
   "metadata": {},
   "outputs": [
    {
     "data": {
      "text/plain": [
       "array([8])"
      ]
     },
     "execution_count": 23,
     "metadata": {},
     "output_type": "execute_result"
    }
   ],
   "source": [
    "seed"
   ]
  },
  {
   "cell_type": "code",
   "execution_count": 24,
   "id": "0c469ecc-2017-4462-b463-5abcd8e29f94",
   "metadata": {},
   "outputs": [],
   "source": [
    "indices = np.arange(0,100,seed)"
   ]
  },
  {
   "cell_type": "code",
   "execution_count": 25,
   "id": "72cdefb8-ede2-48fd-abae-5cf66c4c5940",
   "metadata": {},
   "outputs": [
    {
     "data": {
      "text/plain": [
       "array([ 0,  8, 16, 24, 32, 40, 48, 56, 64, 72, 80, 88, 96])"
      ]
     },
     "execution_count": 25,
     "metadata": {},
     "output_type": "execute_result"
    }
   ],
   "source": [
    "indices"
   ]
  },
  {
   "cell_type": "code",
   "execution_count": 26,
   "id": "e0934b27-c2c6-495c-849d-e51d0373920c",
   "metadata": {},
   "outputs": [],
   "source": [
    "amostra = df.loc[indices,:]"
   ]
  },
  {
   "cell_type": "code",
   "execution_count": 27,
   "id": "445cf61d-36fe-4644-a63b-245f38ef0ec0",
   "metadata": {},
   "outputs": [
    {
     "data": {
      "text/html": [
       "<div>\n",
       "<style scoped>\n",
       "    .dataframe tbody tr th:only-of-type {\n",
       "        vertical-align: middle;\n",
       "    }\n",
       "\n",
       "    .dataframe tbody tr th {\n",
       "        vertical-align: top;\n",
       "    }\n",
       "\n",
       "    .dataframe thead th {\n",
       "        text-align: right;\n",
       "    }\n",
       "</style>\n",
       "<table border=\"1\" class=\"dataframe\">\n",
       "  <thead>\n",
       "    <tr style=\"text-align: right;\">\n",
       "      <th></th>\n",
       "      <th>case_id</th>\n",
       "      <th>provincial_case_id</th>\n",
       "      <th>age</th>\n",
       "      <th>sex</th>\n",
       "      <th>health_region</th>\n",
       "      <th>province</th>\n",
       "      <th>country</th>\n",
       "      <th>date_report</th>\n",
       "      <th>report_week</th>\n",
       "      <th>has_travel_history</th>\n",
       "      <th>locally_acquired</th>\n",
       "      <th>case_source</th>\n",
       "    </tr>\n",
       "  </thead>\n",
       "  <tbody>\n",
       "    <tr>\n",
       "      <th>0</th>\n",
       "      <td>NaN</td>\n",
       "      <td>1</td>\n",
       "      <td>50-59</td>\n",
       "      <td>Male</td>\n",
       "      <td>Toronto</td>\n",
       "      <td>Ontario</td>\n",
       "      <td>Canada</td>\n",
       "      <td>2020-01-25</td>\n",
       "      <td>2020-01-19</td>\n",
       "      <td>t</td>\n",
       "      <td>NaN</td>\n",
       "      <td>(1) https://news.ontario.ca/mohltc/en/2020/01/...</td>\n",
       "    </tr>\n",
       "    <tr>\n",
       "      <th>8</th>\n",
       "      <td>NaN</td>\n",
       "      <td>6</td>\n",
       "      <td>30-39</td>\n",
       "      <td>Female</td>\n",
       "      <td>Fraser</td>\n",
       "      <td>BC</td>\n",
       "      <td>Canada</td>\n",
       "      <td>2020-02-20</td>\n",
       "      <td>2020-02-16</td>\n",
       "      <td>t</td>\n",
       "      <td>NaN</td>\n",
       "      <td>(1) https://news.gov.bc.ca/releases/2020HLTH00...</td>\n",
       "    </tr>\n",
       "    <tr>\n",
       "      <th>16</th>\n",
       "      <td>NaN</td>\n",
       "      <td>9</td>\n",
       "      <td>30-39</td>\n",
       "      <td>Female</td>\n",
       "      <td>York</td>\n",
       "      <td>Ontario</td>\n",
       "      <td>Canada</td>\n",
       "      <td>2020-02-29</td>\n",
       "      <td>2020-02-23</td>\n",
       "      <td>t</td>\n",
       "      <td>NaN</td>\n",
       "      <td>https://news.ontario.ca/mohltc/en/2020/02/onta...</td>\n",
       "    </tr>\n",
       "    <tr>\n",
       "      <th>24</th>\n",
       "      <td>NaN</td>\n",
       "      <td>16</td>\n",
       "      <td>60-69</td>\n",
       "      <td>Female</td>\n",
       "      <td>York</td>\n",
       "      <td>Ontario</td>\n",
       "      <td>Canada</td>\n",
       "      <td>2020-03-03</td>\n",
       "      <td>2020-03-01</td>\n",
       "      <td>t</td>\n",
       "      <td>NaN</td>\n",
       "      <td>https://toronto.ctvnews.ca/three-new-cases-of-...</td>\n",
       "    </tr>\n",
       "    <tr>\n",
       "      <th>32</th>\n",
       "      <td>NaN</td>\n",
       "      <td>12</td>\n",
       "      <td>30-39</td>\n",
       "      <td>Female</td>\n",
       "      <td>Vancouver Coastal</td>\n",
       "      <td>BC</td>\n",
       "      <td>Canada</td>\n",
       "      <td>2020-03-03</td>\n",
       "      <td>2020-03-01</td>\n",
       "      <td>t</td>\n",
       "      <td>NaN</td>\n",
       "      <td>https://news.gov.bc.ca/releases/2020HLTH0058-0...</td>\n",
       "    </tr>\n",
       "    <tr>\n",
       "      <th>40</th>\n",
       "      <td>NaN</td>\n",
       "      <td>16</td>\n",
       "      <td>50-59</td>\n",
       "      <td>Female</td>\n",
       "      <td>Vancouver Coastal</td>\n",
       "      <td>BC</td>\n",
       "      <td>Canada</td>\n",
       "      <td>2020-03-05</td>\n",
       "      <td>2020-03-01</td>\n",
       "      <td>f</td>\n",
       "      <td>Close Contact</td>\n",
       "      <td>https://news.gov.bc.ca/releases/2020HLTH0062-0...</td>\n",
       "    </tr>\n",
       "    <tr>\n",
       "      <th>48</th>\n",
       "      <td>NaN</td>\n",
       "      <td>25</td>\n",
       "      <td>50-59</td>\n",
       "      <td>Male</td>\n",
       "      <td>Toronto</td>\n",
       "      <td>Ontario</td>\n",
       "      <td>Canada</td>\n",
       "      <td>2020-03-06</td>\n",
       "      <td>2020-03-01</td>\n",
       "      <td>t</td>\n",
       "      <td>NaN</td>\n",
       "      <td>https://news.ontario.ca/mohltc/en/2020/03/onta...</td>\n",
       "    </tr>\n",
       "    <tr>\n",
       "      <th>56</th>\n",
       "      <td>NaN</td>\n",
       "      <td>24</td>\n",
       "      <td>60-69</td>\n",
       "      <td>Female</td>\n",
       "      <td>Fraser</td>\n",
       "      <td>BC</td>\n",
       "      <td>Canada</td>\n",
       "      <td>2020-03-07</td>\n",
       "      <td>2020-03-01</td>\n",
       "      <td>t</td>\n",
       "      <td>NaN</td>\n",
       "      <td>https://news.gov.bc.ca/releases/2020HLTH0064-0...</td>\n",
       "    </tr>\n",
       "    <tr>\n",
       "      <th>64</th>\n",
       "      <td>NaN</td>\n",
       "      <td>30</td>\n",
       "      <td>60-69</td>\n",
       "      <td>Female</td>\n",
       "      <td>Toronto</td>\n",
       "      <td>Ontario</td>\n",
       "      <td>Canada</td>\n",
       "      <td>2020-03-08</td>\n",
       "      <td>2020-03-08</td>\n",
       "      <td>t</td>\n",
       "      <td>NaN</td>\n",
       "      <td>https://news.ontario.ca/mohltc/en/2020/03/onta...</td>\n",
       "    </tr>\n",
       "    <tr>\n",
       "      <th>72</th>\n",
       "      <td>NaN</td>\n",
       "      <td>31</td>\n",
       "      <td>50-59</td>\n",
       "      <td>Female</td>\n",
       "      <td>Vancouver Coastal</td>\n",
       "      <td>BC</td>\n",
       "      <td>Canada</td>\n",
       "      <td>2020-03-09</td>\n",
       "      <td>2020-03-08</td>\n",
       "      <td>t</td>\n",
       "      <td>NaN</td>\n",
       "      <td>https://news.gov.bc.ca/releases/2020HLTH0068-0...</td>\n",
       "    </tr>\n",
       "    <tr>\n",
       "      <th>80</th>\n",
       "      <td>NaN</td>\n",
       "      <td>8</td>\n",
       "      <td>70-79</td>\n",
       "      <td>Male</td>\n",
       "      <td>Edmonton</td>\n",
       "      <td>Alberta</td>\n",
       "      <td>Canada</td>\n",
       "      <td>2020-03-09</td>\n",
       "      <td>2020-03-08</td>\n",
       "      <td>t</td>\n",
       "      <td>NaN</td>\n",
       "      <td>https://www.alberta.ca/release.cfm?xID=68785BC...</td>\n",
       "    </tr>\n",
       "    <tr>\n",
       "      <th>88</th>\n",
       "      <td>NaN</td>\n",
       "      <td>34</td>\n",
       "      <td>50-59</td>\n",
       "      <td>Female</td>\n",
       "      <td>Vancouver Coastal</td>\n",
       "      <td>BC</td>\n",
       "      <td>Canada</td>\n",
       "      <td>2020-03-10</td>\n",
       "      <td>2020-03-08</td>\n",
       "      <td>f</td>\n",
       "      <td>Close Contact</td>\n",
       "      <td>https://news.gov.bc.ca/releases/2020HLTH0072-0...</td>\n",
       "    </tr>\n",
       "    <tr>\n",
       "      <th>96</th>\n",
       "      <td>NaN</td>\n",
       "      <td>39</td>\n",
       "      <td>30-39</td>\n",
       "      <td>Male</td>\n",
       "      <td>Toronto</td>\n",
       "      <td>Ontario</td>\n",
       "      <td>Canada</td>\n",
       "      <td>2020-03-11</td>\n",
       "      <td>2020-03-08</td>\n",
       "      <td>t</td>\n",
       "      <td>NaN</td>\n",
       "      <td>https://www.ontario.ca/page/2019-novel-coronav...</td>\n",
       "    </tr>\n",
       "  </tbody>\n",
       "</table>\n",
       "</div>"
      ],
      "text/plain": [
       "    case_id  provincial_case_id    age     sex      health_region province  \\\n",
       "0       NaN                   1  50-59    Male            Toronto  Ontario   \n",
       "8       NaN                   6  30-39  Female             Fraser       BC   \n",
       "16      NaN                   9  30-39  Female               York  Ontario   \n",
       "24      NaN                  16  60-69  Female               York  Ontario   \n",
       "32      NaN                  12  30-39  Female  Vancouver Coastal       BC   \n",
       "40      NaN                  16  50-59  Female  Vancouver Coastal       BC   \n",
       "48      NaN                  25  50-59    Male            Toronto  Ontario   \n",
       "56      NaN                  24  60-69  Female             Fraser       BC   \n",
       "64      NaN                  30  60-69  Female            Toronto  Ontario   \n",
       "72      NaN                  31  50-59  Female  Vancouver Coastal       BC   \n",
       "80      NaN                   8  70-79    Male           Edmonton  Alberta   \n",
       "88      NaN                  34  50-59  Female  Vancouver Coastal       BC   \n",
       "96      NaN                  39  30-39    Male            Toronto  Ontario   \n",
       "\n",
       "   country date_report report_week has_travel_history locally_acquired  \\\n",
       "0   Canada  2020-01-25  2020-01-19                  t              NaN   \n",
       "8   Canada  2020-02-20  2020-02-16                  t              NaN   \n",
       "16  Canada  2020-02-29  2020-02-23                  t              NaN   \n",
       "24  Canada  2020-03-03  2020-03-01                  t              NaN   \n",
       "32  Canada  2020-03-03  2020-03-01                  t              NaN   \n",
       "40  Canada  2020-03-05  2020-03-01                  f    Close Contact   \n",
       "48  Canada  2020-03-06  2020-03-01                  t              NaN   \n",
       "56  Canada  2020-03-07  2020-03-01                  t              NaN   \n",
       "64  Canada  2020-03-08  2020-03-08                  t              NaN   \n",
       "72  Canada  2020-03-09  2020-03-08                  t              NaN   \n",
       "80  Canada  2020-03-09  2020-03-08                  t              NaN   \n",
       "88  Canada  2020-03-10  2020-03-08                  f    Close Contact   \n",
       "96  Canada  2020-03-11  2020-03-08                  t              NaN   \n",
       "\n",
       "                                          case_source  \n",
       "0   (1) https://news.ontario.ca/mohltc/en/2020/01/...  \n",
       "8   (1) https://news.gov.bc.ca/releases/2020HLTH00...  \n",
       "16  https://news.ontario.ca/mohltc/en/2020/02/onta...  \n",
       "24  https://toronto.ctvnews.ca/three-new-cases-of-...  \n",
       "32  https://news.gov.bc.ca/releases/2020HLTH0058-0...  \n",
       "40  https://news.gov.bc.ca/releases/2020HLTH0062-0...  \n",
       "48  https://news.ontario.ca/mohltc/en/2020/03/onta...  \n",
       "56  https://news.gov.bc.ca/releases/2020HLTH0064-0...  \n",
       "64  https://news.ontario.ca/mohltc/en/2020/03/onta...  \n",
       "72  https://news.gov.bc.ca/releases/2020HLTH0068-0...  \n",
       "80  https://www.alberta.ca/release.cfm?xID=68785BC...  \n",
       "88  https://news.gov.bc.ca/releases/2020HLTH0072-0...  \n",
       "96  https://www.ontario.ca/page/2019-novel-coronav...  "
      ]
     },
     "execution_count": 27,
     "metadata": {},
     "output_type": "execute_result"
    }
   ],
   "source": [
    "amostra"
   ]
  },
  {
   "cell_type": "code",
   "execution_count": null,
   "id": "5fd3d107-c785-4a25-9420-652a82512be1",
   "metadata": {},
   "outputs": [],
   "source": []
  }
 ],
 "metadata": {
  "kernelspec": {
   "display_name": "Python 3 (ipykernel)",
   "language": "python",
   "name": "python3"
  },
  "language_info": {
   "codemirror_mode": {
    "name": "ipython",
    "version": 3
   },
   "file_extension": ".py",
   "mimetype": "text/x-python",
   "name": "python",
   "nbconvert_exporter": "python",
   "pygments_lexer": "ipython3",
   "version": "3.9.7"
  }
 },
 "nbformat": 4,
 "nbformat_minor": 5
}
