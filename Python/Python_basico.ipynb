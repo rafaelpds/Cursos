{
 "cells": [
  {
   "cell_type": "markdown",
   "id": "61b893e6-c043-41bf-96e5-e7fe5eededed",
   "metadata": {},
   "source": [
    "# Estudo Python"
   ]
  },
  {
   "cell_type": "markdown",
   "id": "9aee0fbd-9777-48f0-8ece-c3ca9c03651a",
   "metadata": {},
   "source": [
    "## Trabalhando com função"
   ]
  },
  {
   "cell_type": "code",
   "execution_count": 10,
   "id": "263bc250-c94f-436e-bbab-850f1a6de8f4",
   "metadata": {},
   "outputs": [],
   "source": [
    "def saudacao():\n",
    "    nome = input('Qual o seu nome?')\n",
    "    print(f'Olá {nome}')"
   ]
  },
  {
   "cell_type": "code",
   "execution_count": 7,
   "id": "01097173-3bc6-47cb-89de-7b5fbb933f86",
   "metadata": {},
   "outputs": [
    {
     "name": "stdin",
     "output_type": "stream",
     "text": [
      "Qual o seu nome? Rafa\n"
     ]
    },
    {
     "name": "stdout",
     "output_type": "stream",
     "text": [
      "Olá Rafa\n"
     ]
    },
    {
     "data": {
      "text/plain": [
       "<function __main__.saudacao()>"
      ]
     },
     "execution_count": 7,
     "metadata": {},
     "output_type": "execute_result"
    }
   ],
   "source": [
    "saudacao()"
   ]
  },
  {
   "cell_type": "code",
   "execution_count": 17,
   "id": "05f26503-175a-42cd-ae64-b68f13eaf703",
   "metadata": {},
   "outputs": [],
   "source": [
    "def cadastro():\n",
    "    nome = input('Qual o seu nome? ')\n",
    "    cidade = input('Qual a sua cidade?')\n",
    "    idade = input('Qual a sua idade?')\n",
    "    print(f'Olá {nome} a sua idade é {idade} e a sua cidade é {cidade}')"
   ]
  },
  {
   "cell_type": "code",
   "execution_count": 18,
   "id": "2bf4d466-e921-4a16-8c0b-86ee0b6720bb",
   "metadata": {},
   "outputs": [
    {
     "name": "stdin",
     "output_type": "stream",
     "text": [
      "Qual o seu nome?  Rafael\n",
      "Qual a sua cidade? RJ\n",
      "Qual a sua idade? 31\n"
     ]
    },
    {
     "name": "stdout",
     "output_type": "stream",
     "text": [
      "Olá Rafael a sua idade é 31 e a sua cidade é RJ\n"
     ]
    }
   ],
   "source": [
    "cadastro()"
   ]
  },
  {
   "cell_type": "code",
   "execution_count": 21,
   "id": "a557571b-e8ee-47a4-adad-8f9e3764fce5",
   "metadata": {},
   "outputs": [
    {
     "name": "stdin",
     "output_type": "stream",
     "text": [
      "Qual seu primeiro nome?  Rafael\n",
      "Qual seu sobrenome?  Santos\n"
     ]
    },
    {
     "name": "stdout",
     "output_type": "stream",
     "text": [
      "Rafael Santos\n"
     ]
    }
   ],
   "source": [
    "def nome_completo():\n",
    " primeiro_nome = input('Qual seu primeiro nome? ')\n",
    " sobrenome = input('Qual seu sobrenome? ')\n",
    " nome_inteiro = primeiro_nome + ' ' + sobrenome\n",
    " print(nome_inteiro)\n",
    "\n",
    "nome_completo()"
   ]
  },
  {
   "cell_type": "markdown",
   "id": "b6c92de7-d895-41e5-a999-861749a3eaf5",
   "metadata": {},
   "source": [
    "## Utilizando Parâmetros"
   ]
  },
  {
   "cell_type": "code",
   "execution_count": 31,
   "id": "7e994d36-59b6-4859-87c4-c92a343b7972",
   "metadata": {},
   "outputs": [
    {
     "name": "stdin",
     "output_type": "stream",
     "text": [
      "Qual a sua idade?  18\n"
     ]
    }
   ],
   "source": [
    "idade = input('Qual a sua idade? ')\n",
    "idade = int(idade)"
   ]
  },
  {
   "cell_type": "code",
   "execution_count": 32,
   "id": "e4cffed1-2c0f-4836-83d8-dc18eeda828d",
   "metadata": {},
   "outputs": [],
   "source": [
    "def validacao_permissao(idade_validacao):\n",
    "    if idade_validacao >= 18:\n",
    "        print(f'Você tem {idade_validacao} anos e tem permissão para dirigir')\n",
    "    else:\n",
    "        print(f'Você tem {idade_validacao} anos e não possui permissão para dirigir')"
   ]
  },
  {
   "cell_type": "code",
   "execution_count": 33,
   "id": "3ed867e9-a117-4f40-bfcb-ab059fe31b78",
   "metadata": {},
   "outputs": [
    {
     "name": "stdout",
     "output_type": "stream",
     "text": [
      "Você tem 18 anos e tem permissão para dirigir\n"
     ]
    }
   ],
   "source": [
    "validacao_permissao(idade)"
   ]
  },
  {
   "cell_type": "markdown",
   "id": "4fa27a93-de29-4500-a51c-b6a84bde381d",
   "metadata": {},
   "source": [
    "### Passando dois Parâmetros para a função"
   ]
  },
  {
   "cell_type": "code",
   "execution_count": 35,
   "id": "8812895f-528f-4461-bcb1-22c7b46c2c0b",
   "metadata": {},
   "outputs": [
    {
     "name": "stdin",
     "output_type": "stream",
     "text": [
      "Qual o seu nome?  Daniel\n",
      "Qual a sua data de nascimento?  28/06/2021\n",
      "Qual a sua idade?  18\n"
     ]
    }
   ],
   "source": [
    "nome = input('Qual o seu nome? ')\n",
    "dt_nasc = input('Qual a sua data de nascimento? ')\n",
    "idade = input('Qual a sua idade? ')\n",
    "idade = int(idade)"
   ]
  },
  {
   "cell_type": "code",
   "execution_count": 36,
   "id": "caf7c028-c5bf-44a5-9de8-068b74f6ddcd",
   "metadata": {},
   "outputs": [],
   "source": [
    "def exibir_cadastro(nome_pessoa, dt_nasc_pessoa, idade_pessoa):\n",
    "    print(f'Olá {nome_pessoa}, você nasceu em {dt_nasc_pessoa} e tem {idade_pessoa} anos.')"
   ]
  },
  {
   "cell_type": "code",
   "execution_count": 37,
   "id": "47cbbeff-df9b-4522-9bb7-af256aaf263d",
   "metadata": {},
   "outputs": [
    {
     "name": "stdout",
     "output_type": "stream",
     "text": [
      "Olá Daniel, você nasceu em 28/06/2021 e tem 18 anos.\n"
     ]
    }
   ],
   "source": [
    "exibir_cadastro(nome, dt_nasc, idade)"
   ]
  },
  {
   "cell_type": "markdown",
   "id": "70256f04-280d-4d8d-81a7-251653ad34e9",
   "metadata": {},
   "source": [
    "## Listas"
   ]
  },
  {
   "cell_type": "code",
   "execution_count": 40,
   "id": "c7bcc66f-24f0-4b6a-af1a-de6196d7f51a",
   "metadata": {},
   "outputs": [],
   "source": [
    "idades = [18, 22, 15, 50]"
   ]
  },
  {
   "cell_type": "code",
   "execution_count": 41,
   "id": "38c2951f-1102-4de1-9155-c8d2645f7e7c",
   "metadata": {},
   "outputs": [
    {
     "data": {
      "text/plain": [
       "15"
      ]
     },
     "execution_count": 41,
     "metadata": {},
     "output_type": "execute_result"
    }
   ],
   "source": [
    "idades[2]"
   ]
  },
  {
   "cell_type": "code",
   "execution_count": 42,
   "id": "20a0aeb8-c256-4950-b4fe-a4f4de7c036f",
   "metadata": {},
   "outputs": [
    {
     "data": {
      "text/plain": [
       "[18, 22]"
      ]
     },
     "execution_count": 42,
     "metadata": {},
     "output_type": "execute_result"
    }
   ],
   "source": [
    "idades[0:2]"
   ]
  },
  {
   "cell_type": "code",
   "execution_count": 43,
   "id": "d8db249c-435f-48dc-9f95-71e9adc45a5c",
   "metadata": {},
   "outputs": [
    {
     "data": {
      "text/plain": [
       "[22, 15, 50]"
      ]
     },
     "execution_count": 43,
     "metadata": {},
     "output_type": "execute_result"
    }
   ],
   "source": [
    "idades[1:]"
   ]
  },
  {
   "cell_type": "markdown",
   "id": "108b9a40-9c39-44f6-aeb7-875fbc1450db",
   "metadata": {},
   "source": [
    "# Laços e Loops"
   ]
  },
  {
   "cell_type": "code",
   "execution_count": 45,
   "id": "1da19c7b-7ea1-4245-a1be-752a59dc44d2",
   "metadata": {},
   "outputs": [
    {
     "name": "stdout",
     "output_type": "stream",
     "text": [
      "18 anos de idade, tem permissão para dirigir\n",
      "22 anos de idade, tem permissão para dirigir\n",
      "15 anos de idade, não tem permissão para dirigir\n",
      "50 anos de idade, tem permissão para dirigir\n"
     ]
    }
   ],
   "source": [
    "def verifica_se_pode_dirigir(idades):\n",
    "    for idade in idades:\n",
    "        if idade >= 18:\n",
    "            print(f'{idade} anos de idade, tem permissão para dirigir')\n",
    "        else:\n",
    "            print(f'{idade} anos de idade, não tem permissão para dirigir')\n",
    "\n",
    "verifica_se_pode_dirigir(idades)"
   ]
  },
  {
   "cell_type": "markdown",
   "id": "b33e7484-ee9b-4bb4-bb02-871d101f5b1a",
   "metadata": {},
   "source": [
    "# Random"
   ]
  },
  {
   "cell_type": "code",
   "execution_count": 61,
   "id": "be4cf2b4-9321-45c6-846c-67aabb2ab4aa",
   "metadata": {},
   "outputs": [],
   "source": [
    "from random import randrange, seed"
   ]
  },
  {
   "cell_type": "code",
   "execution_count": 48,
   "id": "4b3616ef-492a-4e1d-94db-e40001f5306c",
   "metadata": {},
   "outputs": [
    {
     "data": {
      "text/plain": [
       "9"
      ]
     },
     "execution_count": 48,
     "metadata": {},
     "output_type": "execute_result"
    }
   ],
   "source": [
    "randrange(0,11)"
   ]
  },
  {
   "cell_type": "code",
   "execution_count": 55,
   "id": "90f83979-7b54-4a38-9163-1efa253429a6",
   "metadata": {},
   "outputs": [
    {
     "data": {
      "text/plain": [
       "[10]"
      ]
     },
     "execution_count": 55,
     "metadata": {},
     "output_type": "execute_result"
    }
   ],
   "source": [
    "notas_matematica = []\n",
    "\n",
    "notas_matematica.append(randrange(0,11))\n",
    "\n",
    "notas_matematica"
   ]
  },
  {
   "cell_type": "code",
   "execution_count": 59,
   "id": "167e6d3c-aac7-4f08-a212-68c92e21c2fb",
   "metadata": {},
   "outputs": [],
   "source": [
    "notas_matematica = []\n",
    "\n",
    "for notas in range(8):\n",
    "    notas_matematica.append(randrange(0,11))"
   ]
  },
  {
   "cell_type": "code",
   "execution_count": 60,
   "id": "f4319b25-cd91-4938-affc-837c0a9406de",
   "metadata": {},
   "outputs": [
    {
     "data": {
      "text/plain": [
       "[5, 10, 3, 10, 10, 0, 0, 7]"
      ]
     },
     "execution_count": 60,
     "metadata": {},
     "output_type": "execute_result"
    }
   ],
   "source": [
    "notas_matematica"
   ]
  },
  {
   "cell_type": "markdown",
   "id": "ddc0de00-fbe5-4d81-b7d6-1c0bd3afb13f",
   "metadata": {},
   "source": [
    "### Passando o seed"
   ]
  },
  {
   "cell_type": "code",
   "execution_count": 80,
   "id": "3e6f7c82-d7e7-4c01-ad47-7b2509c044da",
   "metadata": {},
   "outputs": [],
   "source": [
    "seed(0)"
   ]
  },
  {
   "cell_type": "code",
   "execution_count": 81,
   "id": "835871d2-7436-4450-8194-5512cd984d73",
   "metadata": {},
   "outputs": [
    {
     "data": {
      "text/plain": [
       "[6]"
      ]
     },
     "execution_count": 81,
     "metadata": {},
     "output_type": "execute_result"
    }
   ],
   "source": [
    "notas_matematica = []\n",
    "\n",
    "notas_matematica.append(randrange(0,11))\n",
    "\n",
    "notas_matematica"
   ]
  },
  {
   "cell_type": "code",
   "execution_count": 82,
   "id": "a035cb82-d578-42e6-aff8-50abba41b27d",
   "metadata": {},
   "outputs": [
    {
     "data": {
      "text/plain": [
       "[6, 0, 4, 8, 7, 6, 4, 7]"
      ]
     },
     "execution_count": 82,
     "metadata": {},
     "output_type": "execute_result"
    }
   ],
   "source": [
    "notas_matematica = []\n",
    "\n",
    "for notas in range(8):\n",
    "    notas_matematica.append(randrange(0,11))\n",
    "notas_matematica"
   ]
  },
  {
   "cell_type": "code",
   "execution_count": null,
   "id": "85391161-fbf4-4fa7-990a-bb413fc80a46",
   "metadata": {},
   "outputs": [],
   "source": []
  }
 ],
 "metadata": {
  "kernelspec": {
   "display_name": "Python 3 (ipykernel)",
   "language": "python",
   "name": "python3"
  },
  "language_info": {
   "codemirror_mode": {
    "name": "ipython",
    "version": 3
   },
   "file_extension": ".py",
   "mimetype": "text/x-python",
   "name": "python",
   "nbconvert_exporter": "python",
   "pygments_lexer": "ipython3",
   "version": "3.8.10"
  }
 },
 "nbformat": 4,
 "nbformat_minor": 5
}
